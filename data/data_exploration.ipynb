{
 "cells": [
  {
   "cell_type": "code",
   "execution_count": 1,
   "metadata": {},
   "outputs": [],
   "source": [
    "import chess\n",
    "import chess.pgn\n",
    "import matplotlib.pyplot as plt\n",
    "import numpy as np\n",
    "import pickle  # for saving/loading Python objects\n",
    "\n",
    "# 1) Initialize counters for piece placements\n",
    "# piece_type in python-chess: 1=pawn, 2=knight, 3=bishop, 4=rook, 5=queen, 6=king\n",
    "# We'll track White and Black separately.\n",
    "pieceSquareCount = {\n",
    "    (color, ptype): np.zeros(64, dtype=np.int64)\n",
    "    for color in [chess.WHITE, chess.BLACK]\n",
    "    for ptype in range(1, 7)\n",
    "}\n",
    "\n",
    "# We'll keep a tally of how many times each piece appears in total \n",
    "# across all positions (to convert counts to probabilities):\n",
    "pieceTotals = {\n",
    "    (color, ptype): 0\n",
    "    for color in [chess.WHITE, chess.BLACK]\n",
    "    for ptype in range(1, 7)\n",
    "}"
   ]
  },
  {
   "cell_type": "code",
   "execution_count": 2,
   "metadata": {},
   "outputs": [],
   "source": [
    "def process_position(board: chess.Board):\n",
    "    \"\"\"\n",
    "    For a single board position, update the pieceSquareCount array\n",
    "    and pieceTotals for each piece found on the board.\n",
    "    \"\"\"\n",
    "    for square in range(64):\n",
    "        piece = board.piece_at(square)\n",
    "        if piece is not None:\n",
    "            color = piece.color\n",
    "            ptype = piece.piece_type\n",
    "            pieceSquareCount[(color, ptype)][square] += 1\n",
    "            pieceTotals[(color, ptype)] += 1"
   ]
  },
  {
   "cell_type": "code",
   "execution_count": 3,
   "metadata": {},
   "outputs": [],
   "source": [
    "def main(pgn_file=\"kriegbase.unix.pgn\", output_file=\"init_belief_state.pkl\"):\n",
    "    \"\"\"\n",
    "    Reads the PGN, accumulates piece-square counts, converts to probabilities,\n",
    "    performs a sanity check, and saves the final distributions to a file.\n",
    "    \"\"\"\n",
    "    # Open and parse every game in the PGN file\n",
    "    game_count = 0\n",
    "    with open(pgn_file, \"r\", encoding=\"utf-8\", errors=\"ignore\") as f:\n",
    "        while True:\n",
    "            game = chess.pgn.read_game(f)\n",
    "            if game is None:\n",
    "                break  # no more games in the file\n",
    "            game_count += 1\n",
    "            \n",
    "            board = game.board()  # starting position of the game\n",
    "\n",
    "            # Process the initial position\n",
    "            process_position(board)\n",
    "\n",
    "            # Process positions after each move\n",
    "            for move in game.mainline_moves():\n",
    "                board.push(move)\n",
    "                process_position(board)\n",
    "    \n",
    "    print(f\"Processed {game_count} games from: {pgn_file}\")\n",
    "\n",
    "    # Convert raw counts to probabilities\n",
    "    pieceSquareProb = {}\n",
    "    for key in pieceSquareCount:\n",
    "        color, ptype = key\n",
    "        count_array = pieceSquareCount[key]\n",
    "        total = pieceTotals[key]\n",
    "        if total > 0:\n",
    "            prob_array = count_array / total\n",
    "        else:\n",
    "            prob_array = np.zeros(64)\n",
    "        pieceSquareProb[key] = prob_array\n",
    "\n",
    "    # Save pieceSquareProb to a file so the Bayesian agent can load it later\n",
    "    with open(output_file, \"wb\") as f:\n",
    "        pickle.dump(pieceSquareProb, f)\n",
    "\n",
    "    print(f\"Saved pieceSquareProb to {output_file}\")\n",
    "    return pieceSquareProb"
   ]
  },
  {
   "cell_type": "code",
   "execution_count": 4,
   "metadata": {},
   "outputs": [],
   "source": [
    "def make_heatmap(prob_array, title=\"\"):\n",
    "    \"\"\"\n",
    "    Given a length-64 array of probabilities, produce a board heatmap using matplotlib.\n",
    "    \"\"\"\n",
    "    matrix = np.zeros((8, 8))\n",
    "    for sq in range(64):\n",
    "        rank = sq // 8\n",
    "        file = sq % 8\n",
    "        # Invert the rank to make row=0 the top\n",
    "        matrix[7 - rank, file] = prob_array[sq]\n",
    "\n",
    "    plt.figure(figsize=(5, 5))\n",
    "    plt.imshow(matrix, cmap=\"hot\", origin=\"upper\")\n",
    "    plt.colorbar()\n",
    "    plt.title(title)\n",
    "\n",
    "    # Label squares: x-axis a..h, y-axis 8..1\n",
    "    files = ['a','b','c','d','e','f','g','h']\n",
    "    ranks = ['8','7','6','5','4','3','2','1']\n",
    "    plt.xticks(range(8), files)\n",
    "    plt.yticks(range(8), ranks)\n",
    "    plt.show()\n",
    "\n",
    "def sample_plots(pieceSquareProb):\n",
    "    \"\"\"\n",
    "    Example usage of make_heatmap on White Pawns and Black Queens.\n",
    "    \"\"\"\n",
    "    # White pawns\n",
    "    white_pawn_prob = pieceSquareProb.get((chess.WHITE, chess.PAWN), np.zeros(64))\n",
    "    make_heatmap(white_pawn_prob, title=\"White Pawn Probability\")\n",
    "\n",
    "    # Black queen\n",
    "    black_queen_prob = pieceSquareProb.get((chess.BLACK, chess.QUEEN), np.zeros(64))\n",
    "    make_heatmap(black_queen_prob, title=\"Black Queen Probability\")"
   ]
  },
  {
   "cell_type": "code",
   "execution_count": 5,
   "metadata": {},
   "outputs": [
    {
     "name": "stderr",
     "output_type": "stream",
     "text": [
      "illegal san: 'Bxe7' in r1b1kb1r/pp1pp1pp/n1p2p2/5n2/1q1PP3/B1N5/P1P2PPP/R2QKB1R w KQkq - 2 9 while parsing <Game at 0x109a66b10 ('CHEssGUEVARA' vs. 'FGMA68', '2002.08.30' at 'Internet Chess Club')>\n",
      "illegal san: 'Bxd2' in r1b1k1nr/p1pP2pp/8/8/1b6/8/PP1P1PPP/RNBQK1NR b KQkq - 0 8 while parsing <Game at 0x1099a1be0 ('avalon1175' vs. 'coughsyrup', '2002.09.30' at 'Internet Chess Club')>\n",
      "illegal san: 'Ke7' in rnbq2nr/p4k1p/1p2p1p1/2BP1p2/P7/1P2PN1P/3NBPP1/R2Q1RK1 b - - 0 14 while parsing <Game at 0x10996f8f0 ('Tortoise' vs. 'Fark', '2002.11.20' at 'Internet Chess Club')>\n",
      "illegal san: 'Bxh3' in 1nbqkbnr/2N1ppp1/3p3p/8/8/5PPP/P1PPP2R/R1BQKBN1 b Qk - 0 8 while parsing <Game at 0x109a2e780 ('avalon1175' vs. 'Fark', '2002.11.26' at 'Internet Chess Club')>\n",
      "invalid san: 'P@g4' while parsing <Game at 0x109a2f080 ('Fark' vs. 'LordByron', '2002.12.08' at 'Internet Chess Club')>\n",
      "invalid san: 'B@e1' while parsing <Game at 0x109ac13a0 ('Fark' vs. 'LordByron', '2002.12.08' at 'Internet Chess Club')>\n"
     ]
    },
    {
     "name": "stdout",
     "output_type": "stream",
     "text": [
      "Processed 16657 games from: kriegbase.unix.pgn\n",
      "Saved pieceSquareProb to init_belief_state.pkl\n"
     ]
    },
    {
     "data": {
      "image/png": "[encoded data removed]",
      "text/plain": [
       "<Figure size 500x500 with 2 Axes>"
      ]
     },
     "metadata": {},
     "output_type": "display_data"
    },
    {
     "data": {
      "image/png": "[encoded data removed]",
      "text/plain": [
       "<Figure size 500x500 with 2 Axes>"
      ]
     },
     "metadata": {},
     "output_type": "display_data"
    },
    {
     "name": "stdout",
     "output_type": "stream",
     "text": [
      "Done!\n"
     ]
    }
   ],
   "source": [
    "pgn_path = \"kriegbase.unix.pgn\"\n",
    "output_path = \"init_belief_state.pkl\"\n",
    "\n",
    "pieceSquareProb = main(pgn_file=pgn_path, output_file=output_path)\n",
    "\n",
    "sample_plots(pieceSquareProb)\n",
    "\n",
    "print(\"Done!\")"
   ]
  },
  {
   "cell_type": "code",
   "execution_count": null,
   "metadata": {},
   "outputs": [],
   "source": []
  }
 ],
 "metadata": {
  "kernelspec": {
   "display_name": "kriegspiel",
   "language": "python",
   "name": "python3"
  },
  "language_info": {
   "codemirror_mode": {
    "name": "ipython",
    "version": 3
   },
   "file_extension": ".py",
   "mimetype": "text/x-python",
   "name": "python",
   "nbconvert_exporter": "python",
   "pygments_lexer": "ipython3",
   "version": "3.12.9"
  }
 },
 "nbformat": 4,
 "nbformat_minor": 2
}
